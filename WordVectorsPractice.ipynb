{
 "cells": [
  {
   "cell_type": "code",
   "execution_count": 40,
   "metadata": {},
   "outputs": [],
   "source": [
    "import numpy as np"
   ]
  },
  {
   "cell_type": "markdown",
   "metadata": {},
   "source": [
    "Method to read a glove file and build a set of words and a map of word encodings"
   ]
  },
  {
   "cell_type": "code",
   "execution_count": 41,
   "metadata": {},
   "outputs": [],
   "source": [
    "def read_glove_vectors(glove_file):\n",
    "    with open(glove_file, 'r') as f:\n",
    "        words = set()\n",
    "        word_to_vec_map = {}\n",
    "        \n",
    "        for line in f:\n",
    "            line = line.strip().split()\n",
    "            curr_word = line[0]\n",
    "            words.add(curr_word)\n",
    "            word_to_vec_map[curr_word] = np.array(line[1:], dtype=np.float64)\n",
    "            \n",
    "    return words, word_to_vec_map"
   ]
  },
  {
   "cell_type": "markdown",
   "metadata": {},
   "source": [
    "Reads the glove vectors file and prints various dimensions"
   ]
  },
  {
   "cell_type": "code",
   "execution_count": 42,
   "metadata": {},
   "outputs": [
    {
     "name": "stdout",
     "output_type": "stream",
     "text": [
      "Total words in vocabulary = 400000\n",
      "Size of word vectors = 400000\n",
      "Dimensions of each word vector = (50,)\n"
     ]
    }
   ],
   "source": [
    "glove_file = \"./glove.6B.50d.txt\"\n",
    "\n",
    "word, word_to_vec_map = read_glove_vectors(glove_file)\n",
    "print(\"Total words in vocabulary = \" + str(len(word)))\n",
    "print(\"Size of word vectors = \" + str(len(word_to_vec_map)))\n",
    "print(\"Dimensions of each word vector = \" + str(word_to_vec_map.get('lion').shape))"
   ]
  },
  {
   "cell_type": "code",
   "execution_count": 43,
   "metadata": {},
   "outputs": [],
   "source": [
    "# Calculates the cosine similarity of 2 vectors\n",
    "def cosine_similarity(u, v):\n",
    "    \n",
    "    dot_product = np.sum(u * v) # Numerator of cosine similarity\n",
    "    norm_u = np.sqrt(np.sum(u ** 2)) # Norm of vector u\n",
    "    norm_v = np.sqrt(np.sum(v ** 2)) # Norm of vector v\n",
    "    \n",
    "    cosine_similarity = dot_product / (norm_u * norm_v)\n",
    "    \n",
    "    return cosine_similarity\n",
    "    \n",
    "    "
   ]
  },
  {
   "cell_type": "code",
   "execution_count": 44,
   "metadata": {},
   "outputs": [],
   "source": [
    "# Given a word, find the most analogous word\n",
    "def find_analogous_word(word):\n",
    "    \n",
    "    word_vector = word_to_vec_map.get(word)\n",
    "    \n",
    "    all_words = word_to_vec_map.keys()\n",
    "    max_similarity = -100\n",
    "    best_word = None\n",
    "    \n",
    "    for w in all_words:\n",
    "        if w in [word]:\n",
    "            continue\n",
    "            \n",
    "        similarity = cosine_similarity(word_vector, word_to_vec_map[w])\n",
    "        \n",
    "        if similarity > max_similarity:\n",
    "            max_similarity = similarity\n",
    "            best_word = w\n",
    "            \n",
    "    return best_word, max_similarity"
   ]
  },
  {
   "cell_type": "code",
   "execution_count": 45,
   "metadata": {},
   "outputs": [
    {
     "name": "stdout",
     "output_type": "stream",
     "text": [
      "Given word : lion, Similar word : dragon, Similarity score : 0.7917536230532733\n",
      "Given word : airplane, Similar word : plane, Similarity score : 0.8621733057090953\n",
      "Given word : boy, Similar word : girl, Similarity score : 0.9327198629646993\n",
      "Given word : school, Similar word : college, Similarity score : 0.9344996087241083\n",
      "Given word : hotel, Similar word : hotels, Similarity score : 0.8347788319732117\n",
      "Given word : motel, Similar word : hotel, Similarity score : 0.7792252941873062\n",
      "Given word : shirt, Similar word : shirts, Similarity score : 0.900019510373655\n",
      "Given word : jeans, Similar word : denim, Similarity score : 0.9055760847898471\n",
      "Given word : tiger, Similar word : tigers, Similarity score : 0.7239238726304342\n"
     ]
    }
   ],
   "source": [
    "given_words = ['lion', 'airplane', 'boy', 'school', 'hotel', 'motel', \"shirt\", \"jeans\", \"tiger\"]\n",
    "\n",
    "for given_word in given_words:\n",
    "    similar_word, sim_score = find_analogous_word(given_word)\n",
    "    print(\"Given word : \" + given_word + \", Similar word : \" + similar_word + \", Similarity score : \" + str(sim_score))"
   ]
  },
  {
   "cell_type": "code",
   "execution_count": 46,
   "metadata": {},
   "outputs": [],
   "source": [
    "# Given 3 words word_a, word_b and word_c, find a word_d such that the word pair (word_c, word_d) closely\n",
    "# matches the word pair (word_a, word_b)\n",
    "\n",
    "def complete_analogy(word_a, word_b, word_c):\n",
    "    \n",
    "    encoding_a = word_to_vec_map[word_a]\n",
    "    encoding_b = word_to_vec_map[word_b]\n",
    "    encoding_c = word_to_vec_map[word_c]\n",
    "    \n",
    "    words = word_to_vec_map.keys()\n",
    "    \n",
    "    best_sim_score = -100\n",
    "    best_word = None\n",
    "    \n",
    "    for w in words:\n",
    " #       if w in [word_a, word_b, word_c]:\n",
    " #          continue\n",
    "        \n",
    "        encoding_w = word_to_vec_map[w]\n",
    "        sim_score = cosine_similarity(encoding_b - encoding_a, encoding_w - encoding_c)\n",
    "        \n",
    "        if sim_score > best_sim_score:\n",
    "            best_sim_score = sim_score\n",
    "            best_word = w\n",
    "            \n",
    "    return best_word"
   ]
  },
  {
   "cell_type": "code",
   "execution_count": 47,
   "metadata": {},
   "outputs": [
    {
     "name": "stderr",
     "output_type": "stream",
     "text": [
      "/anaconda3/lib/python3.6/site-packages/ipykernel_launcher.py:8: RuntimeWarning: invalid value encountered in double_scalars\n",
      "  \n"
     ]
    },
    {
     "name": "stdout",
     "output_type": "stream",
     "text": [
      "italy -> rome :: germany -> berlin\n",
      "king -> queen :: man -> woman\n",
      "lion -> animal :: tiger -> animal\n"
     ]
    }
   ],
   "source": [
    "word_triads = [('italy', 'rome', 'germany'), ('king', 'queen', 'man'), ('lion', 'animal', 'tiger')]\n",
    "\n",
    "for word_triad in word_triads:\n",
    "    similar_word = complete_analogy(word_triad[0], word_triad[1], word_triad[2])\n",
    "    print(word_triad[0] + \" -> \" + word_triad[1] + \" :: \" + word_triad[2] + \" -> \" + similar_word)"
   ]
  },
  {
   "cell_type": "code",
   "execution_count": null,
   "metadata": {},
   "outputs": [],
   "source": []
  }
 ],
 "metadata": {
  "kernelspec": {
   "display_name": "Python 3",
   "language": "python",
   "name": "python3"
  },
  "language_info": {
   "codemirror_mode": {
    "name": "ipython",
    "version": 3
   },
   "file_extension": ".py",
   "mimetype": "text/x-python",
   "name": "python",
   "nbconvert_exporter": "python",
   "pygments_lexer": "ipython3",
   "version": "3.6.5"
  }
 },
 "nbformat": 4,
 "nbformat_minor": 2
}
